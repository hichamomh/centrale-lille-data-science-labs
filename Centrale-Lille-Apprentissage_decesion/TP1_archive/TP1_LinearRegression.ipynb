{
 "cells": [
  {
   "cell_type": "markdown",
   "metadata": {},
   "source": [
    "# TP1 : Linear regression"
   ]
  },
  {
   "cell_type": "markdown",
   "metadata": {},
   "source": [
    "The purpose of this work is to implement least square linear regression to medical data. The problem is based on an example described in the book by Hastie & Tibshirani (2009) pp. 3-4 & 49-63. Data come from a study published by Stamey et al. (1989). This study aims at the prediction of the level of prostate specific antigen, denoted by `lpsa` below, from the\n",
    "results of clinical exams. These exams are carried out before a possible\n",
    "prostatectomy.\n",
    "\n",
    "The measurements are log cancer volume `lcavol`, log prostate \n",
    "weight `lweight`, age of the patient `age`, log of benign prostatic \n",
    "hyperplasia amount `lbph`, seminal vesicle invasion `svi`, log of capsular \n",
    "penetration `lcp`, Gleason score `gleason`, and percent of Gleason scores 4 or \n",
    "5 `pgg45`. The variables `svi` and `gleason` are categorical, others are\n",
    "quantitative. There are `p=8` entries.\n",
    "The work is decomposed in the following tasks:\n",
    "\n",
    "* read and format the data : extraction of the training and test sets,\n",
    "* apply least square regression method to predict `lpsa` from the entries,\n",
    "* study the estimated error on the test set (validation),\n",
    "* identify the most significant entries by using a rejection test,\n",
    "* apply regularized least square regression method (ridge regression),\n",
    "* search for an optimal regularization parameter thanks to\n",
    "cross-validation."
   ]
  },
  {
   "cell_type": "code",
   "execution_count": 165,
   "metadata": {},
   "outputs": [],
   "source": [
    "import csv\n",
    "# import os\n",
    "from pylab import *\n",
    "import numpy as np\n",
    "from numpy import linalg as la\n",
    "\n",
    "import pandas as pd\n",
    "import seaborn as sns"
   ]
  },
  {
   "cell_type": "markdown",
   "metadata": {},
   "source": [
    "## Read & Normalize data\n",
    "Data are stored in ASCII format: \n",
    "\n",
    "* the first column enumerates the data from 1 à 97 (97 male subjects). \n",
    "* columns 2 to 9 contain the entries themselves. \n",
    "* column 10 contains target values. \n",
    "* column 11 contains label 1 for the training set, \n",
    "and 2 for the test set."
   ]
  },
  {
   "cell_type": "code",
   "execution_count": 166,
   "metadata": {},
   "outputs": [],
   "source": [
    "#%% To read data from spaced separated float numbers\n",
    "# x, y = np.loadtxt(c, delimiter=',', usecols=(0, 2), unpack=True)\n",
    "\n",
    "data_init = np.loadtxt('prostate_data_sansheader.txt')\n",
    "\n",
    "data = data_init[:,1:]   # we get rid of the indices (1 to 97)\n",
    "\n",
    "#%% Extraction of training/test sets\n",
    "Itrain = np.nonzero(data[:,-1]==1)\n",
    "data_train=data[Itrain][:,:-1]   # original data\n",
    "\n",
    "Itest = np.nonzero(data[:,-1]==0)\n",
    "data_test = data[Itest][:,:-1]   # original data"
   ]
  },
  {
   "cell_type": "code",
   "execution_count": 167,
   "metadata": {},
   "outputs": [
    {
     "data": {
      "text/plain": [
       "((67, 9), (30, 9))"
      ]
     },
     "execution_count": 167,
     "metadata": {},
     "output_type": "execute_result"
    }
   ],
   "source": [
    "data_train.shape, data_test.shape"
   ]
  },
  {
   "cell_type": "markdown",
   "metadata": {},
   "source": [
    "**Normalization of the data** *with respect to the mean and standard deviation of the training set*."
   ]
  },
  {
   "cell_type": "code",
   "execution_count": 168,
   "metadata": {},
   "outputs": [
    {
     "name": "stdout",
     "output_type": "stream",
     "text": [
      "[ 1.23328245  0.47303067  7.44601122  1.45269103  0.41684299  1.39024269\n",
      "  0.70355366 29.08227243]\n"
     ]
    }
   ],
   "source": [
    "M_train = data_train\n",
    "M_test = data_test \n",
    "moy = np.zeros((8,))\n",
    "sigma = np.zeros((8,))\n",
    "\n",
    "# With a FOR loop :\n",
    "for k in range(8): # 8 columns of entries\n",
    "    moy[k]=np.mean(data_train[:,k])\n",
    "    sigma[k] = np.std(data_train[:,k], ddof=0)\n",
    "    M_train[:,k] = (data_train[:,k]-moy[k])/sigma[k] # normalized: centered, variance 1\n",
    "    M_test[:,k] = (data_test[:,k]-moy[k])/sigma[k]   # same normalization for test set\n",
    "print(sigma)"
   ]
  },
  {
   "cell_type": "code",
   "execution_count": 169,
   "metadata": {},
   "outputs": [
    {
     "data": {
      "text/plain": [
       "'# Alternative WITHOUT FOR\\nnormalize = lambda vec: (vec-np.mean(vec))/np.std(vec)    # inline function \\nM_train = np.array( [ normalize(vec) for vec in data_train[:,0:8].T ] ).T  # iterate on vec direct / ARRAY not LIST\\nmoy = np.array( [ np.mean(vec) for vec in data_train[:,0:8].T ] )\\nsigma = np.array( [ np.std(vec, ddof=0) for vec in data_train[:,0:8].T ] )\\nM_test = np.array([ (data_test[:,k]-moy[k])/sigma[k] for k in range(M_train.shape[1]) ] ).T'"
      ]
     },
     "execution_count": 169,
     "metadata": {},
     "output_type": "execute_result"
    }
   ],
   "source": [
    "\"\"\"# Alternative WITHOUT FOR\n",
    "normalize = lambda vec: (vec-np.mean(vec))/np.std(vec)    # inline function \n",
    "M_train = np.array( [ normalize(vec) for vec in data_train[:,0:8].T ] ).T  # iterate on vec direct / ARRAY not LIST\n",
    "moy = np.array( [ np.mean(vec) for vec in data_train[:,0:8].T ] )\n",
    "sigma = np.array( [ np.std(vec, ddof=0) for vec in data_train[:,0:8].T ] )\n",
    "M_test = np.array([ (data_test[:,k]-moy[k])/sigma[k] for k in range(M_train.shape[1]) ] ).T\"\"\""
   ]
  },
  {
   "cell_type": "code",
   "execution_count": 170,
   "metadata": {},
   "outputs": [
    {
     "data": {
      "text/plain": [
       "((67, 9), (30, 9))"
      ]
     },
     "execution_count": 170,
     "metadata": {},
     "output_type": "execute_result"
    }
   ],
   "source": [
    "M_train.shape, M_test.shape"
   ]
  },
  {
   "cell_type": "markdown",
   "metadata": {},
   "source": [
    "# Part 1 : simple least square regression"
   ]
  },
  {
   "cell_type": "markdown",
   "metadata": {},
   "source": [
    "## Preliminary questions\n",
    " \n",
    " * Compute the autocovariance matrix from the training set.\n",
    " * Observe carefully & Comment. What kind of information can you get ? "
   ]
  },
  {
   "cell_type": "code",
   "execution_count": 171,
   "metadata": {},
   "outputs": [
    {
     "data": {
      "text/plain": [
       "<AxesSubplot:>"
      ]
     },
     "execution_count": 171,
     "metadata": {},
     "output_type": "execute_result"
    },
    {
     "data": {
      "image/png": "[encoded data removed]",
      "text/plain": [
       "<Figure size 640x480 with 2 Axes>"
      ]
     },
     "metadata": {},
     "output_type": "display_data"
    }
   ],
   "source": [
    "cov_matrix = np.cov(M_train.T)\n",
    "sns.heatmap(cov_matrix, annot=True)"
   ]
  },
  {
   "cell_type": "markdown",
   "metadata": {},
   "source": [
    "Quelques rappels à propos de la notion de covariance : https://fr.wikipedia.org/wiki/Covariance"
   ]
  },
  {
   "cell_type": "markdown",
   "metadata": {},
   "source": [
    "## Exercise 1 : least square regression \n",
    " * Build the matrix of features `X_train` for the training set, the first column is made of ones.\n",
    " * Estimate the regression vector `beta_hat` (estimates= `X*beta_hat`)\n",
    " _Indication: you may either use the function `inv` or another more efficient way to compute $A^{-1}B$ (think of `A\\B`)._ \n",
    " * What is the value of the first coefficient `beta_hat[0]` ? What does it correspond to ?\n",
    " * Estimate the prediction error (quadratic error) from the test set.\n",
    "\n",
    "\n",
    "*Indication: be careful of using `X_test` defined above, normalized w.r.t. the training data set. You can estimate this error by using:*"
   ]
  },
  {
   "cell_type": "code",
   "execution_count": 172,
   "metadata": {},
   "outputs": [],
   "source": [
    "t_test = data_test[:,8]   # target column\n",
    "N_test = data_test.shape[0]\n",
    "X_test = np.concatenate((np.ones((N_test,1)), M_test[:,0:8]), axis=1)\n",
    "# don't forget the 1st column of ones and normalization !"
   ]
  },
  {
   "cell_type": "code",
   "execution_count": 173,
   "metadata": {},
   "outputs": [],
   "source": [
    "X_train = np.concatenate((np.ones((M_train.shape[0],1)), M_train[:,0:8]), axis=1)\n",
    "t_train = M_train[:,8]"
   ]
  },
  {
   "cell_type": "code",
   "execution_count": 174,
   "metadata": {},
   "outputs": [
    {
     "data": {
      "text/plain": [
       "(67, 9)"
      ]
     },
     "execution_count": 174,
     "metadata": {},
     "output_type": "execute_result"
    }
   ],
   "source": [
    "X_train.shape"
   ]
  },
  {
   "cell_type": "code",
   "execution_count": 216,
   "metadata": {},
   "outputs": [
    {
     "name": "stdout",
     "output_type": "stream",
     "text": [
      "le premier coefficient : 2.4523450850746267\n",
      "Erreur de prédiction pour les données train est : 0.43919976805833433\n",
      "Erreur de prédiction pour les données test est  : 0.5212740055076004\n"
     ]
    }
   ],
   "source": [
    "beta_hat = np.linalg.inv(X_train.T.dot(X_train)).dot(X_train.T).dot(t_train)\n",
    "print(f'le premier coefficient : {beta_hat[0]}')\n",
    "estimates_train = np.dot(X_train,beta_hat)\n",
    "erreur_quadratique_train = np.mean((estimates_train-t_train)**2)\n",
    " \n",
    "print(f'Erreur de prédiction pour les données train est : {erreur_quadratique_train}')\n",
    "\n",
    "estimates_test = np.dot(X_test,beta_hat)\n",
    "erreur_quadratique_test = np.mean((estimates_test-t_test)**2)\n",
    "print(f'Erreur de prédiction pour les données test est  : {erreur_quadratique_test}')\n"
   ]
  },
  {
   "cell_type": "code",
   "execution_count": 176,
   "metadata": {},
   "outputs": [
    {
     "name": "stdout",
     "output_type": "stream",
     "text": [
      "2.4523450850746267\n"
     ]
    }
   ],
   "source": [
    "print(np.mean(t_train))"
   ]
  },
  {
   "cell_type": "markdown",
   "metadata": {},
   "source": [
    "## Rejection test, computation of Z-scores\n",
    "Now we turn to the selection of the most significant entries so that our predictor be more robust. The essential idea is that our estimates will be more robust if only the most significant entries are taken into account. As a consequence, note that we will *reduce the dimension* of the problem from |p=8| to some smaller dimension. The present approach uses a statistical test to decide whether the regression coefficient corresponding to some entry is significantly non-zero. Then we can decide either to put non significant coefficients to zero, or to select the significant entries only and estimate the new reduced regression vector.\n",
    "\n",
    "Let's assume that target values are noisy due to some white Gaussian\n",
    "noise with variance $\\sigma^2$ (see Hastie & Tibshirani p. 47). One can show that the estimated regression vector |beta_hat| is also Gaussian with variance\n",
    "\n",
    "$$ var (\\widehat{\\beta}) = (X^TX)^{-1}\\sigma^2.$$  \n",
    "\n",
    "One can also show that the estimator of the variance (from the training set)\n",
    "\n",
    "$$\\widehat{\\sigma^2}=\\frac{1}{(N-p-1)}\\sum (t_n-\\widehat{t}_n)^2$$\n",
    "\n",
    "obeys a Chi-2 distribution. As a consequence a Chi-square statistical test can be used to determine whether some coefficient $\\beta_j$ is\n",
    "significantly non-zero. To this aim, one defines the variables $z_j$\n",
    "named Z-scores which in turn obey a Fisher law, also called\n",
    "$t$-distribution, which are often used in statistics:\n",
    "\n",
    "$$ z_j = \\frac{\\beta_j}{\\widehat{\\sigma}\\sqrt{v_j}} $$\n",
    "\n",
    "where $v_j$ is the $j$-th diagonal element of the matrix $(X^TX)^{-1}$.\n",
    "For sake of simplicity, we will consider that the null hypothesis of\n",
    "$\\beta_j$ is rejected with probability 95% if the Z-score is greater than 2."
   ]
  },
  {
   "cell_type": "markdown",
   "metadata": {},
   "source": [
    "## Exercise 2\n",
    "1. Compute the Z-scores and select the most significant entries.\n",
    "2. Estimate the prediction error over the test set if only these significant \n",
    "entries are taken into account for regression by putting other regression \n",
    "coefficients to zero.\n",
    "3. Estimate the new regression vector when only the significant features\n",
    "are taken into account.\n",
    "4. Compare to previous results (Exercise 1).\n",
    "\n",
    "*Indication 1 : to sort a vector `Z` in descending order*\n",
    "`val = np.sort(np.abs(Z))[-1:0:-1]`\n",
    "\n",
    "\n",
    "*Indication 2 :* to extract the diagonal of a matrix,\n",
    "`vXX = np.diag(inv(X.T.dot(X),k=0)`"
   ]
  },
  {
   "cell_type": "code",
   "execution_count": 177,
   "metadata": {},
   "outputs": [
    {
     "name": "stdout",
     "output_type": "stream",
     "text": [
      "[ 5.36629046  2.75078939 -1.39590898  2.05584563  2.46925518 -1.86691264\n",
      " -0.14668121  1.73783972]\n"
     ]
    }
   ],
   "source": [
    "vXX = np.diag(inv(X_train.T.dot(X_train)),k=0)\n",
    "N = t_train.shape[0]\n",
    "P = X_train.shape[1] - 1\n",
    "t_prediction = np.dot(X_train,beta_hat)\n",
    "sigma = np.sqrt(np.sum((t_train-t_prediction)**2)/(N-P-1))\n",
    "\n",
    "Z_score = np.zeros((8,))\n",
    "for k in range(8):\n",
    "    Z_score[k] = beta_hat[k+1]/(sigma*np.sqrt(vXX[k+1]))\n",
    "    \n",
    "print(Z_score)"
   ]
  },
  {
   "cell_type": "markdown",
   "metadata": {},
   "source": [
    "The index of the selected features are [0 1 3 4] which corresponds to these features\n",
    "   * lcavol\n",
    "   * lweight\n",
    "   * lbph\n",
    "   * svi"
   ]
  },
  {
   "cell_type": "code",
   "execution_count": 178,
   "metadata": {},
   "outputs": [
    {
     "name": "stdout",
     "output_type": "stream",
     "text": [
      "Nouveau erreur de prédiction pour les données test est  : 0.45222661607310966\n",
      "Ancien erreur de prédiction pour les données test est  : 0.5212740055076004\n"
     ]
    }
   ],
   "source": [
    "new_beta_hat  = [beta_hat[0]]\n",
    "for i in range(8):\n",
    "    if Z_score[i] < 2:\n",
    "        new_beta_hat.append(0)\n",
    "    else:\n",
    "        new_beta_hat.append(beta_hat[i+1])\n",
    "\n",
    "new_test_prediction = np.dot(X_test,new_beta_hat)\n",
    "new_erreur_quadratique_test = np.mean((new_test_prediction-t_test)**2)\n",
    "\n",
    "print(f'Nouveau erreur de prédiction pour les données test est  : {new_erreur_quadratique_test}')\n",
    "print(f'Ancien erreur de prédiction pour les données test est  : {erreur_quadratique_test}')"
   ]
  },
  {
   "cell_type": "code",
   "execution_count": 179,
   "metadata": {},
   "outputs": [
    {
     "name": "stdout",
     "output_type": "stream",
     "text": [
      "(67, 5)\n",
      "Nouveau erreur de prédiction pour les données test est  : 0.45633212204016255\n"
     ]
    }
   ],
   "source": [
    "new_X_train = X_train[:,np.array(new_beta_hat)!=0]\n",
    "print(new_X_train.shape)\n",
    "new_X_test = X_test[:,np.array(new_beta_hat)!=0]\n",
    "new_beta_hat_2 = np.linalg.inv(new_X_train.T.dot(new_X_train)).dot(new_X_train.T).dot(t_train)\n",
    "new_test_prediction_2 = np.dot(new_X_test,new_beta_hat_2)\n",
    "new_erreur_quadratique_test_2 = np.mean((new_test_prediction_2-t_test)**2)\n",
    "\n",
    "print(f'Nouveau erreur de prédiction pour les données test est  : {new_erreur_quadratique_test_2}')"
   ]
  },
  {
   "cell_type": "markdown",
   "metadata": {},
   "source": [
    "# Part 2: Regularized least squares\n",
    "This part deals with regularized least square regression. We denote\n",
    "by `beta_hat_reg` the resulting coefficients. This approach is an alternative to the selection based on statistical tests above. The idea is now to penalize large values of regression coefficients, *except for the bias*.\n",
    "\n",
    "We use the result:\n",
    "\n",
    "$$\\hat{\\beta} = (\\lambda I_p + X_c^T X_c)^{-1} X_c^T t_c$$\n",
    "\n",
    "where $X_c$ contains the normalized entries of the training data set with \n",
    "no column of ones (the bias should no be penalized and is processed). \n",
    "The targets `t_c` are therefore also centered, `t_c=t-mean(t)`.\n",
    " \n",
    "First, we estimate the bias $t_0$ to center the targets which yields the coefficient $\\beta_0$, that is `beta_hat_reg[0]` in Python.\n",
    "\n",
    "*Remark : the bias is estimated as the empirical average of targets.\n",
    "For tests, entries should be normalized with respect to the means and\n",
    "variances of the training data set (see exercise 3.5 p. 95 in Hastie & Tibshirani). Then work on the vector of entries with no column of ones.*"
   ]
  },
  {
   "cell_type": "markdown",
   "metadata": {},
   "source": [
    "## Exercise 3\n",
    "1. Use _ridge regression_ for penalty `lambda = 25` to estimate the regression vector. \n",
    "2. Estimate the prediction error from the test set.\n",
    "3. Compare the results (coefficients $\\beta$, error...) to previous ones.\n",
    "4. You may also compare these results to the result of best subset selection below:\n",
    "\n",
    "`beta_best = [2.477 0.74 0.316 0 0 0 0 0 0]`.\n",
    "\n",
    "*Indication : a simple way to obtain predictions for the test data set is the code below:*"
   ]
  },
  {
   "cell_type": "code",
   "execution_count": 180,
   "metadata": {},
   "outputs": [
    {
     "name": "stdout",
     "output_type": "stream",
     "text": [
      "coefficients après régularisation: [ 2.45234509  0.4221092   0.24879171 -0.04226499  0.16575364  0.23091485\n",
      "  0.01066329  0.04306017  0.13151316]\n",
      "coefficients avant régularisation: [ 2.45234509  0.71104059  0.29045029 -0.14148182  0.21041951  0.30730025\n",
      " -0.28684075 -0.02075686  0.27526843]\n"
     ]
    }
   ],
   "source": [
    "t_c = t_train - np.mean(t_train)\n",
    "X_c = M_train[:,0:8]\n",
    "Lambda = 25\n",
    "beta_hat_reg = np.linalg.inv(X_c.T.dot(X_c) + Lambda*np.eye(8)).dot(X_c.T).dot(t_c)\n",
    "beta_hat_reg = np.insert(beta_hat_reg,0,np.mean(t_train))\n",
    "print(f'coefficients après régularisation: {beta_hat_reg}')\n",
    "print(f'coefficients avant régularisation: {beta_hat}')"
   ]
  },
  {
   "cell_type": "code",
   "execution_count": 181,
   "metadata": {},
   "outputs": [
    {
     "name": "stdout",
     "output_type": "stream",
     "text": [
      "Erreur de prédiction pour les données test après la régularisation  : 0.4939421599118719\n",
      "Erreur de prédiction pour les données test avant la régularisation  : 0.5212740055076004\n"
     ]
    }
   ],
   "source": [
    "erreur_quadratique_test_reg = np.mean((np.dot(X_test,beta_hat_reg)-t_test)**2)\n",
    "print(f'Erreur de prédiction pour les données test après la régularisation  : {erreur_quadratique_test_reg}')\n",
    "print(f'Erreur de prédiction pour les données test avant la régularisation  : {erreur_quadratique_test}')"
   ]
  },
  {
   "cell_type": "code",
   "execution_count": 182,
   "metadata": {},
   "outputs": [
    {
     "name": "stdout",
     "output_type": "stream",
     "text": [
      "best error : 0.4936867011109828\n"
     ]
    }
   ],
   "source": [
    "beta_best = [2.477,0.74,0.316,0,0,0,0,0,0]\n",
    "best_error  = np.mean((np.dot(X_test,beta_best)-t_test)**2)\n",
    "print(f'best error : {best_error}')"
   ]
  },
  {
   "cell_type": "markdown",
   "metadata": {},
   "source": [
    "# Part 3: Cross-Validation \n",
    "\n",
    "## How to choose lambda from the training data set only ? \n",
    "\n",
    "The idea is to decompose the training set in 2 subsets: one subset for\n",
    "linear regression (say 9/10 of the data), the other to estimate the prediction error (say 1/10 of the data).\n",
    "\n",
    "We can repeat this operation 10 times over the 10 possible couples of\n",
    "subsets to estimate the average prediction error. We will choose the\n",
    "value of `lambda` which minimizes this error. The algorithm goes as\n",
    "follows:\n",
    "\n",
    "For the 10 cross-validation cases\n",
    "    \n",
    "    Extraction of test & training subsets `testset` & `trainset`\n",
    "    \n",
    "    For lambda in 0:40\n",
    "        Estimate `beta_hat` from normalized `trainset` (mean=0, var=1)\n",
    "        Estimate the error from  `testset`\n",
    "    EndFor lambda\n",
    "\n",
    "EndFor 10 cases\n",
    "\n",
    "Compute the average error for each lambda\n",
    "\n",
    "Choose `lambda` which minimizes the error \n"
   ]
  },
  {
   "cell_type": "markdown",
   "metadata": {},
   "source": [
    "## Exercise 4\n",
    "* Use 6-fold cross-validation in the present study to optimize the choice of `lambda`. \n",
    "Try values of `lambda` ranging from 0 to 40 for instance (0:40).\n",
    "* Plot the estimated error as a function of `lambda`.\n",
    "* Propose a well chosen value of `lambda` and give the estimated corresponding\n",
    "error on the test set.\n",
    "* Comment on your results.\n",
    "\n",
    "*Indication 1 : think of shuffling the dataset first.*\n",
    "\n",
    "*Indication 2 : you can build 6 training and test subsets by using the code below*"
   ]
  },
  {
   "cell_type": "code",
   "execution_count": 183,
   "metadata": {},
   "outputs": [],
   "source": [
    "lmax = 40\n",
    "lambda_pos = arange(0,lmax+1)\n",
    "N_test = 10\n",
    "m = np.zeros(8)\n",
    "s = np.zeros(8)\n",
    "X_traink = np.zeros((X_train.shape[0]-N_test,8))\n",
    "X_testk = np.zeros((N_test,8))\n",
    "erreur = np.zeros((6,lmax+1))\n",
    "erreur_rel = np.zeros((6,lmax+1))"
   ]
  },
  {
   "cell_type": "code",
   "execution_count": 210,
   "metadata": {},
   "outputs": [
    {
     "data": {
      "text/plain": [
       "Text(0.5, 1.0, 'erreur en fonction de lambda')"
      ]
     },
     "execution_count": 210,
     "metadata": {},
     "output_type": "execute_result"
    },
    {
     "data": {
      "image/png": "[encoded data removed]",
      "text/plain": [
       "<Figure size 640x480 with 1 Axes>"
      ]
     },
     "metadata": {},
     "output_type": "display_data"
    }
   ],
   "source": [
    "np.random.seed(20)\n",
    "data = data_train\n",
    "shuffle_data = np.random.permutation(data)\n",
    "datak = np.array_split(shuffle_data,6)\n",
    "erreur_by_lambda = []\n",
    " \n",
    "\n",
    "for Lambda in lambda_pos:\n",
    "\n",
    "    erreurs = []\n",
    "    theta_hat_by_k = []\n",
    "    for k in range(6):\n",
    "        \n",
    "        data_testk = datak[k]\n",
    "        data_traink = np.concatenate([datak[i] for i in range(6) if i != k])\n",
    "        \n",
    "        X_traink = data_traink[:,0:8]\n",
    "        t_traink = data_traink[:,8]\n",
    "        t0 = np.mean(t_traink)\n",
    "        t_traink = t_traink - t0\n",
    "        \n",
    "        X_testk = np.concatenate((np.ones((data_testk.shape[0],1)), data_testk[:,0:8]), axis=1)\n",
    "        t_testk = data_testk[:,8]\n",
    "        \n",
    "        beta_hatk = np.linalg.inv(X_traink.T.dot(X_traink) + Lambda*np.eye(8)).dot(X_traink.T).dot(t_traink)\n",
    "        beta_hatk = np.insert(beta_hatk,0,t0)\n",
    "        \n",
    "        erreurs.append(np.mean((np.dot(X_testk,beta_hatk)-t_testk)**2))\n",
    "        theta_hat_by_k.append(beta_hatk)\n",
    "        \n",
    "    erreur_by_lambda.append(np.mean(erreurs))\n",
    " \n",
    "\n",
    "\n",
    "plt.plot(lambda_pos,erreur_by_lambda)\n",
    "best_lambda = np.argmin(erreur_by_lambda)\n",
    "best_erreur = min(erreur_by_lambda)\n",
    "plt.scatter(y = best_erreur, x=best_lambda)\n",
    "plt.ylabel(\"erreur\")\n",
    "plt.xlabel(\"Lambda\")\n",
    "plt.title(\"erreur en fonction de lambda\")"
   ]
  },
  {
   "cell_type": "code",
   "execution_count": 211,
   "metadata": {},
   "outputs": [
    {
     "name": "stdout",
     "output_type": "stream",
     "text": [
      " Erreur apres cross validations : 0.49415375303761666\n"
     ]
    }
   ],
   "source": [
    "t_c = t_train - np.mean(t_train)\n",
    "X_c = M_train[:,0:8]\n",
    "beta_hat_reg = np.linalg.inv(X_c.T.dot(X_c) + best_lambda*np.eye(8)).dot(X_c.T).dot(t_c)\n",
    "beta_hat_reg = np.insert(beta_hat_reg,0,np.mean(t_train))\n",
    "\n",
    "erreur_quadratique_test_reg = np.mean((np.dot(X_test,beta_hat_reg)-t_test)**2)\n",
    "print(f' Erreur apres cross validations : {erreur_quadratique_test_reg}')"
   ]
  },
  {
   "cell_type": "code",
   "execution_count": null,
   "metadata": {},
   "outputs": [],
   "source": []
  }
 ],
 "metadata": {
  "kernelspec": {
   "display_name": "Python 3",
   "language": "python",
   "name": "python3"
  },
  "language_info": {
   "codemirror_mode": {
    "name": "ipython",
    "version": 3
   },
   "file_extension": ".py",
   "mimetype": "text/x-python",
   "name": "python",
   "nbconvert_exporter": "python",
   "pygments_lexer": "ipython3",
   "version": "3.9.13"
  }
 },
 "nbformat": 4,
 "nbformat_minor": 2
}
