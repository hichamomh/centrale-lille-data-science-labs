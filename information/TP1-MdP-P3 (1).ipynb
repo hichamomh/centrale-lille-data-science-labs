{
 "cells": [
  {
   "cell_type": "markdown",
   "metadata": {},
   "source": [
    "# Noms du binome: OUMOUHOU, CHADLI\n",
    "\n",
    "# Prénoms du binome: Hicham, Mohamed amine\n",
    "\n",
    "## Note: exporter le compte rendu basé sur le notebook au format pdf\n"
   ]
  },
  {
   "cell_type": "markdown",
   "metadata": {},
   "source": [
    "# Entropie et génération de mots de passe\n",
    "* L'objectif de ce tp est de continuer à se familiariser avec la notion d'entropie, mais aussi de comprendre le lien qu'il existe entre cette mesure informationelle et la sécurité d'un générateur (humain ou executable) de mots de passes\n",
    "* Ainsi, nous proposons d'étudier l'entropie d'un tel générateur, et ce en fonction du modèle probabiliste considéré pour le modéliser (contruit à partir d'une lettre, de deux lettres, de 4 lettres, ...). A l'aide de tirrages aléatoires, nous estimerons également le temps moyen nécessaire pour trouver un mot de passe à partir de ce modèle.\n",
    "* A la fin de ce TP, nous considérerons un générateur de mots de passe spécifique qui générera un mot de passe en prennant **4 lettres consécutives dans un texte** (sans se soucier des espaces). Ces lettres peuvent faire parti d'un ou de plusieurs mots consécutifs.\n",
    "* Nous faisons l'hypothèse que le texte n'est composé que des 26 lettres de l'alphabet, sans majuscules ni accents\n",
    "\n",
    "Nous chercherons aussi à comprendre (voir dernière question):\n",
    "- les bonnes pratiques pour le défenseur, i.e. la personne cherchant à générer/construire un système de génération de mots de passe.\n",
    "- les bonnes pratiques pour l'attaquant, i.e. la personne essayant de trouver le mot de passe.\n",
    "\n",
    "**Il est important de commenter vos réponses, en utilisant des cellules markdown**\n"
   ]
  },
  {
   "cell_type": "code",
   "execution_count": 84,
   "metadata": {},
   "outputs": [],
   "source": [
    "import numpy as np\n",
    "\n",
    "from numpy import genfromtxt\n",
    "from pandas import read_csv\n",
    "import pandas as pd\n",
    "import time"
   ]
  },
  {
   "cell_type": "markdown",
   "metadata": {},
   "source": [
    "#### Modèle monogramme (une lettre) : le générateur génère des mots de passe à partir des occurences des monogrammes\n",
    "* On récupére des données composées de [lettre,frequence d'apparition de la lettre] (voir fichier csv pour [comma-separated-value](https://en.wikipedia.org/wiki/Comma-separated_values)) "
   ]
  },
  {
   "cell_type": "code",
   "execution_count": 114,
   "metadata": {},
   "outputs": [],
   "source": [
    "monogramme = read_csv('monogramme.csv')\n",
    "freq_mono = (monogramme['frequency']).values\n",
    "letters_mono = (monogramme['letters']).values"
   ]
  },
  {
   "cell_type": "markdown",
   "metadata": {},
   "source": [
    "Q: Quelles sont les 5 lettres les plus représentées ?"
   ]
  },
  {
   "cell_type": "code",
   "execution_count": 115,
   "metadata": {},
   "outputs": [
    {
     "name": "stdout",
     "output_type": "stream",
     "text": [
      "les plus fréquentes lettres sont: ['E' 'S' 'A' 'N' 'T']\n"
     ]
    }
   ],
   "source": [
    "lettres_plus_frequentes = letters_mono[freq_mono.argsort()[-5:][::-1]]\n",
    "print(\"les plus fréquentes lettres sont:\",lettres_plus_frequentes)"
   ]
  },
  {
   "cell_type": "markdown",
   "metadata": {},
   "source": [
    "Ecrire une fonction qui calcule l'entropie à partir d'un vecteur constitué de probabilités empiriques (note, il est important de bien *gérer* le cas ou la probabilité est nulle)."
   ]
  },
  {
   "cell_type": "code",
   "execution_count": 116,
   "metadata": {},
   "outputs": [
    {
     "name": "stdout",
     "output_type": "stream",
     "text": [
      "entropie de exemple_freq: 1.8464393446710154\n"
     ]
    }
   ],
   "source": [
    "def entropie(freq):\n",
    "    ent = 0\n",
    "    for i in range(len(freq)):\n",
    "        if freq[i] != 0:\n",
    "            ent += freq[i]*np.log2(freq[i])\n",
    "    return -ent\n",
    "\n",
    "exemple_freq = np.array([0.1,0.2,0.3,0.4,0])\n",
    "print(\"entropie de exemple_freq:\",entropie(exemple_freq))"
   ]
  },
  {
   "cell_type": "markdown",
   "metadata": {},
   "source": [
    "Q: en utilisant ce modèle probabiliste pour générer un mot de passe, quelle est l'entropie d'un mot de passe de 8 lettres ?"
   ]
  },
  {
   "cell_type": "markdown",
   "metadata": {},
   "source": [
    "__réponse__ : On peut voir les chiffres de mot de passe comme des variables aléatoires indépendantes (approche naive), donc l'entropie \n",
    "de mot de passe est la somme des entropies de chaque chiffre."
   ]
  },
  {
   "cell_type": "code",
   "execution_count": 117,
   "metadata": {},
   "outputs": [
    {
     "name": "stdout",
     "output_type": "stream",
     "text": [
      "entropie de monogramme pour un mot de passe à 8 chiffres est: 31.68 bits\n"
     ]
    }
   ],
   "source": [
    "entropie_mono_8 = 8 * entropie(freq_mono)\n",
    "print(\"entropie de monogramme pour un mot de passe à 8 chiffres est:\",entropie_mono_8.round(2),\"bits\")"
   ]
  },
  {
   "cell_type": "markdown",
   "metadata": {},
   "source": [
    "Q: A l'aide de la fonction `np.random.choice()`, estimer le temps nécessaire en secondes pour tirer 100 000 mots de passes en utilisant ce générateur ? (note: ici le tirage n'est pas forcemment réaliste, car aléatoire, mais l'idée est surtout de mesurer le temps minimal nécessaire pour générer N mots de passes)."
   ]
  },
  {
   "cell_type": "code",
   "execution_count": 118,
   "metadata": {},
   "outputs": [
    {
     "name": "stdout",
     "output_type": "stream",
     "text": [
      "le temps de génération de 100000 mots de passe est: 2.56378436088562 secondes\n"
     ]
    }
   ],
   "source": [
    "t = time.time()\n",
    "List_mot_de_passe = [np.random.choice(letters_mono, 8, p = freq_mono) for i in range(100000)]\n",
    "t_100000 = time.time() - t\n",
    "print(\"le temps de génération de 100000 mots de passe est:\",t_100000,\"secondes\")"
   ]
  },
  {
   "cell_type": "markdown",
   "metadata": {},
   "source": [
    "Nous definissons l'\"entropie du devin\" G (guessing entropie) comme le **nombre moyen d'essais successif nécessaires pour trouver un mot de passe à partir de notre générateur**.\n",
    "    On peut montrer que $G\\geq 2^H/4+1$ où $H$ est l'entropie de la source (voir le papier Password_Entropy_and_Password_Quality.pdf )"
   ]
  },
  {
   "cell_type": "markdown",
   "metadata": {},
   "source": [
    "Q: calculer le minorant de $G$ pour ce modèle"
   ]
  },
  {
   "cell_type": "code",
   "execution_count": 119,
   "metadata": {},
   "outputs": [
    {
     "name": "stdout",
     "output_type": "stream",
     "text": [
      "le nombre moyen minimal de mots de passe à tester pour trouver le bon est: 857904864.68 mots de passe\n"
     ]
    }
   ],
   "source": [
    "min_G = 1 + (2**entropie_mono_8)/4\n",
    "print(\"le nombre moyen minimal de mots de passe à tester pour trouver le bon est:\",min_G.round(2),\"mots de passe\")"
   ]
  },
  {
   "cell_type": "markdown",
   "metadata": {},
   "source": [
    "Q: combien de temps cela prendra-t-il pour trouver un mot de passe si l'on suppose qu'il est possible de prendre le générateur codé précédemment ? (en minutes)"
   ]
  },
  {
   "cell_type": "code",
   "execution_count": 120,
   "metadata": {},
   "outputs": [
    {
     "name": "stdout",
     "output_type": "stream",
     "text": [
      "le temps moyen minimal pour trouver le bon mot de passe est: 366.58 minutes\n"
     ]
    }
   ],
   "source": [
    "temps_pour_génération = t_100000/100000\n",
    "temps_trouver_mot_de_passe = min_G* temps_pour_génération\n",
    "print(\"le temps moyen minimal pour trouver le bon mot de passe est:\",(temps_trouver_mot_de_passe/60).round(2),\"minutes\")"
   ]
  },
  {
   "cell_type": "markdown",
   "metadata": {},
   "source": [
    "On propose maintenant d'utiliser un modèle plus évolué qui est construit à partir de la probabilité conjointe de deux lettres successives (bigramme)"
   ]
  },
  {
   "cell_type": "code",
   "execution_count": 121,
   "metadata": {},
   "outputs": [
    {
     "data": {
      "text/html": [
       "<div>\n",
       "<style scoped>\n",
       "    .dataframe tbody tr th:only-of-type {\n",
       "        vertical-align: middle;\n",
       "    }\n",
       "\n",
       "    .dataframe tbody tr th {\n",
       "        vertical-align: top;\n",
       "    }\n",
       "\n",
       "    .dataframe thead th {\n",
       "        text-align: right;\n",
       "    }\n",
       "</style>\n",
       "<table border=\"1\" class=\"dataframe\">\n",
       "  <thead>\n",
       "    <tr style=\"text-align: right;\">\n",
       "      <th></th>\n",
       "      <th>letters</th>\n",
       "      <th>frequency</th>\n",
       "    </tr>\n",
       "  </thead>\n",
       "  <tbody>\n",
       "    <tr>\n",
       "      <th>0</th>\n",
       "      <td>AA</td>\n",
       "      <td>0.000252</td>\n",
       "    </tr>\n",
       "    <tr>\n",
       "      <th>1</th>\n",
       "      <td>AB</td>\n",
       "      <td>0.001760</td>\n",
       "    </tr>\n",
       "    <tr>\n",
       "      <th>2</th>\n",
       "      <td>AC</td>\n",
       "      <td>0.003482</td>\n",
       "    </tr>\n",
       "    <tr>\n",
       "      <th>3</th>\n",
       "      <td>AD</td>\n",
       "      <td>0.001960</td>\n",
       "    </tr>\n",
       "    <tr>\n",
       "      <th>4</th>\n",
       "      <td>AE</td>\n",
       "      <td>0.000200</td>\n",
       "    </tr>\n",
       "  </tbody>\n",
       "</table>\n",
       "</div>"
      ],
      "text/plain": [
       "  letters  frequency\n",
       "0      AA   0.000252\n",
       "1      AB   0.001760\n",
       "2      AC   0.003482\n",
       "3      AD   0.001960\n",
       "4      AE   0.000200"
      ]
     },
     "execution_count": 121,
     "metadata": {},
     "output_type": "execute_result"
    }
   ],
   "source": [
    "bigramme = read_csv('bigramme.csv',keep_default_na=False)\n",
    "\n",
    "#print(bigramme.head(5))\n",
    "freq_bi = (bigramme['frequency']).values\n",
    "\n",
    "letters_bi = (bigramme['letters']).values\n",
    "\n",
    "bigramme.head(5)"
   ]
  },
  {
   "cell_type": "markdown",
   "metadata": {},
   "source": [
    "Q: Quelles sont les 5 couples de lettres les plus représentés ?"
   ]
  },
  {
   "cell_type": "code",
   "execution_count": 122,
   "metadata": {},
   "outputs": [
    {
     "name": "stdout",
     "output_type": "stream",
     "text": [
      "les plus fréquentes couple de lettres sont: ['ES' 'EN' 'DE' 'LE' 'NT']\n"
     ]
    }
   ],
   "source": [
    "lettres_plus_frequentes = letters_bi[freq_bi.argsort()[-5:][::-1]]\n",
    "print(\"les plus fréquentes couple de lettres sont:\",lettres_plus_frequentes)"
   ]
  },
  {
   "cell_type": "markdown",
   "metadata": {},
   "source": [
    "Q: en utilisant ce modèle probabiliste pour générer un mot de passe, quelle est l'entropie d'un mot de passe de 8 lettres ?"
   ]
  },
  {
   "cell_type": "code",
   "execution_count": 123,
   "metadata": {},
   "outputs": [
    {
     "name": "stdout",
     "output_type": "stream",
     "text": [
      "entropie de bigramme: 30.14 bits\n"
     ]
    }
   ],
   "source": [
    "entropie_bi_8 = 4 * entropie(freq_bi)\n",
    "print(\"entropie de bigramme:\",entropie_bi_8.round(2),\"bits\")"
   ]
  },
  {
   "cell_type": "markdown",
   "metadata": {},
   "source": [
    "Q: Pourquoi cette entropie est-elle inférieure à celle du modèle construit sur des monogrammes ? Quelle propriété théorique de l'entropie peut justifier ce constat  ?"
   ]
  },
  {
   "cell_type": "markdown",
   "metadata": {},
   "source": [
    "- L'entropie de bigramme est inférieure à celle du monogramme car en prenant en compte les couples de lettres, on voit plus les lettres successives comme des variables indépendants et ainsi on réduit l'ensemble des possibilités.\n",
    "- La proprieté théorique qui justifie ce constat est la suivante : l'entropie d'un ensemble de variables aléatoires est inférieure ou égale à la somme des entropies de ces variables aléatoires. En fait l'entropie d'un couple de lettres est inférieure à la somme des entropies de ces lettres. \n",
    "- __remarque__: la différence entre les deux entropies est faible, cela  signifier que l'inforamtion mutuelle entre les lettres est faible."
   ]
  },
  {
   "cell_type": "markdown",
   "metadata": {},
   "source": [
    "Q: A l'aide de la fonction `np.random.choice()`, calculer le temps nécessaire en secondes pour tirer 100 000 mots de passes en utilisant ce générateur ?"
   ]
  },
  {
   "cell_type": "code",
   "execution_count": 124,
   "metadata": {},
   "outputs": [
    {
     "name": "stdout",
     "output_type": "stream",
     "text": [
      "le temps de génération de 100000 mots de passe à 8 chiffre avec le bigramme: 2.9846417903900146 secondes\n"
     ]
    }
   ],
   "source": [
    "t = time.time()\n",
    "\n",
    "List_mot_de_passe = [np.random.choice(letters_bi, 4, p = freq_bi) for i in range(100000)]\n",
    "t_100000 = time.time() - t\n",
    "\n",
    "print(\"le temps de génération de 100000 mots de passe à 8 chiffre avec le bigramme:\",t_100000,\"secondes\")\n"
   ]
  },
  {
   "cell_type": "markdown",
   "metadata": {},
   "source": [
    "__réponse__ : On voit que le temps nécessaire pour tirer 100 000 mots de passe est plus grand que celui du monogramme, car dans le cas du bigramme on plus de possibilités pour la fonction `np.random.choice()`."
   ]
  },
  {
   "cell_type": "markdown",
   "metadata": {},
   "source": [
    "Q: calculer le minorant de $G$ pour ce modèle"
   ]
  },
  {
   "cell_type": "code",
   "execution_count": 125,
   "metadata": {},
   "outputs": [
    {
     "name": "stdout",
     "output_type": "stream",
     "text": [
      "le nombre moyen minimal de mots de passe à tester pour trouver le bon est: 296254956.7 mots de passe\n"
     ]
    }
   ],
   "source": [
    "min_G = 1 + (2**entropie_bi_8)/4\n",
    "print(\"le nombre moyen minimal de mots de passe à tester pour trouver le bon est:\",min_G.round(2),\"mots de passe\")"
   ]
  },
  {
   "cell_type": "markdown",
   "metadata": {},
   "source": [
    "__Remarque__ : On remarque quand meme qu'on a réduit considérablement le nombre de mot de passe à tester en utilisant le bigramme."
   ]
  },
  {
   "cell_type": "markdown",
   "metadata": {},
   "source": [
    "Q: combien de temps cela prendra-t-il pour trouver un mot de passe si l'on suppose qu'il est possible de prendre le générateur codé précédemment ? (en minutes)"
   ]
  },
  {
   "cell_type": "code",
   "execution_count": 127,
   "metadata": {},
   "outputs": [
    {
     "name": "stdout",
     "output_type": "stream",
     "text": [
      "temps pour trouver un mot de passe en minute: 147.36915406360063 min\n"
     ]
    }
   ],
   "source": [
    "temps_pour_génération = t_100000/100000\n",
    "temps_trouver_mot_de_passe = min_G* temps_pour_génération\n",
    "print(\"temps pour trouver un mot de passe en minute:\",temps_trouver_mot_de_passe/60,\"min\")"
   ]
  },
  {
   "cell_type": "markdown",
   "metadata": {},
   "source": [
    "__Remarque__ : On a aussi réduit le temps de recherche du mot de passe preque de moitié."
   ]
  },
  {
   "cell_type": "markdown",
   "metadata": {},
   "source": [
    "Q: **Modèle Uniforme:** si maintenant on change de stratégie et on tire aléatoirement chaque lettre de l'alphabet de façon uniforme, quelle est l'entropie de ce nouveau générateur ?"
   ]
  },
  {
   "cell_type": "code",
   "execution_count": 130,
   "metadata": {},
   "outputs": [
    {
     "name": "stdout",
     "output_type": "stream",
     "text": [
      "Entropie de modèle uniforme est: 37.6 bits\n"
     ]
    }
   ],
   "source": [
    "uniform_entropie = 8 * np.log2(26)\n",
    "print(\"Entropie de modèle uniforme est:\",uniform_entropie.round(2),\"bits\")"
   ]
  },
  {
   "cell_type": "markdown",
   "metadata": {},
   "source": [
    "__Remarque__ : l'entropie est plus grande que celle du monogramme et du bigramme, car dans ce cas on néglige la fréquence d'apparition des lettres."
   ]
  },
  {
   "cell_type": "markdown",
   "metadata": {},
   "source": [
    "Q: A l'aide de la fonction `np.random.choice()`, calculer le temps nécessaire en secondes pour tirer 100 000 mots de passes en utilisant ce générateur ?"
   ]
  },
  {
   "cell_type": "code",
   "execution_count": 132,
   "metadata": {},
   "outputs": [
    {
     "name": "stdout",
     "output_type": "stream",
     "text": [
      "le temps de génération de 100000 mots de passe est: 1.7060933113098145 secondes\n"
     ]
    }
   ],
   "source": [
    "t = time.time()\n",
    "list_mot_de_passe = [np.random.choice(letters_mono, 8) for i in range(100000)]\n",
    "t_100000 = time.time() - t\n",
    "print(\"le temps de génération de 100000 mots de passe est:\",t_100000,\"secondes\")"
   ]
  },
  {
   "cell_type": "markdown",
   "metadata": {},
   "source": [
    "__Remarque__ : le temps nécessaire pour tirer 100 000 mots de passe est plus petit que celui du monogramme et du bigramme, car dans ce cas tous les lettres sont équiprobables."
   ]
  },
  {
   "cell_type": "markdown",
   "metadata": {},
   "source": [
    "Q: calculer le minorant de $G$ pour ce modèle"
   ]
  },
  {
   "cell_type": "code",
   "execution_count": 133,
   "metadata": {},
   "outputs": [
    {
     "name": "stdout",
     "output_type": "stream",
     "text": [
      "le nombre moyen minimal de mots de passe à tester pour trouver le bon est: 52206766145.0 mots de passe\n"
     ]
    }
   ],
   "source": [
    "min_G = 1 + (2**uniform_entropie)/4\n",
    "print(\"le nombre moyen minimal de mots de passe à tester pour trouver le bon est:\",min_G.round(2),\"mots de passe\")"
   ]
  },
  {
   "cell_type": "markdown",
   "metadata": {},
   "source": [
    "__Remarque__ : Le minorant de G est plus grand que celui du monogramme et du bigramme, car on a une entropie plus grande."
   ]
  },
  {
   "cell_type": "markdown",
   "metadata": {},
   "source": [
    "Q: dans ce cas précis, quelle est la valeur exacte de $G$?"
   ]
  },
  {
   "cell_type": "markdown",
   "metadata": {},
   "source": [
    "__Réponse__ : Vu qu'on a $26^8$ possibilités, on a $G=26^8/2$."
   ]
  },
  {
   "cell_type": "code",
   "execution_count": 135,
   "metadata": {},
   "outputs": [
    {
     "name": "stdout",
     "output_type": "stream",
     "text": [
      "le nombre de mots de passe moyen à tester pour trouver le bon est: 104413532288.0 mots de passe\n"
     ]
    }
   ],
   "source": [
    "G = (26**8)/2\n",
    "print(\"le nombre de mots de passe moyen à tester pour trouver le bon est:\",G,\"mots de passe\")  "
   ]
  },
  {
   "cell_type": "markdown",
   "metadata": {},
   "source": [
    "Q: combien de temps cela prendra-t-il pour trouver un mot de passe en utilisant le générateur codé précédemment ? (en minutes)"
   ]
  },
  {
   "cell_type": "code",
   "execution_count": 136,
   "metadata": {},
   "outputs": [
    {
     "name": "stdout",
     "output_type": "stream",
     "text": [
      "temps pour trouver un mot de passe en minute: 29689.871507798023 minutes\n"
     ]
    }
   ],
   "source": [
    "temps_pour_génération = t_100000/100000\n",
    "temps_trouver_mot_de_passe = G* temps_pour_génération\n",
    "print(\"temps pour trouver un mot de passe en minute:\",temps_trouver_mot_de_passe/60,\"minutes\")"
   ]
  },
  {
   "cell_type": "markdown",
   "metadata": {},
   "source": [
    "__Remarque__: Le temps de recherche est très grand par rapport aux autres modèles, car on a négligé la fréquence d'apparition des lettres et on a pris les lettres équiprobables. ce qui montre l'importance des modèles précédents."
   ]
  },
  {
   "cell_type": "markdown",
   "metadata": {},
   "source": [
    "Q: implémenter une attaque pratique qui consiste à:\n",
    "1. **pour le défenseur: (la personne qui génère le mot de passe)** tirer un mot de passe de 4 lettres consécutives à partir de ce texte de Victor Hugo (texteFrancais.txt) tiré des Misérables.  \n",
    "2. **pour l'attaquant:** utiliser le modèle bigramme pour générer des mots de passe et minimiser le nombre d'essais. Pour cela on pourra :\n",
    "    * dans un premier temps pré-calculer un **dictionnaire**, qui contriendra un nombre de MdP générés classés dans l'ordre du plus probable au moins probable et qui ne contient pas de doublons \n",
    "    * dans un deuxième temps appeler ce dictionnaire pour comparer chacune de ses entrées au mot de passe généré.\n",
    "3. Il faudra faire ses tests plusieurs fois afin de d'obtenir un nombre moyens d'appel au dictionnaire nécessaire\n",
    "4. Il sera intéressant de comparer le nombre trouvé à la valeur de G (qui est une borne inférieure)\n",
    "5. Question annexe: Par un simple calcul, si le générateur utilisé n'est plus ce générateur mais un générateur qui tire chaque lettre de façon équiprobable, rappeler la valeur de G. Comparer cette valeur avec la valeur trouvée en utilisant la stratégie \"des 4 lettres consécutives\"."
   ]
  },
  {
   "cell_type": "code",
   "execution_count": 138,
   "metadata": {},
   "outputs": [],
   "source": [
    "## Fonction générant un mot de passe\n",
    "def get_passwd():\n",
    "    text_hugo = open(\"texteFrancais.txt\",\"r\")\n",
    "    str_hugo = str(text_hugo.read())\n",
    "\n",
    "    # On remplace des lettres avec accent avec des lettres sans accent\n",
    "    str_hugo = str_hugo.replace(\"Â\", \"A\")\n",
    "    str_hugo = str_hugo.replace(\"Ù\", \"U\")\n",
    "    str_hugo = str_hugo.replace(\"Ô\", \"O\")\n",
    "    size_txt = len(str_hugo)\n",
    "\n",
    "    idx_rand = np.random.randint(size_txt-4)\n",
    "    #print(idx_rand)\n",
    "\n",
    "    psswd = str_hugo[idx_rand:idx_rand+4]\n",
    "    return(psswd)"
   ]
  },
  {
   "cell_type": "code",
   "execution_count": 139,
   "metadata": {},
   "outputs": [
    {
     "data": {
      "text/plain": [
       "'EVIL'"
      ]
     },
     "execution_count": 139,
     "metadata": {},
     "output_type": "execute_result"
    }
   ],
   "source": [
    "get_passwd()"
   ]
  },
  {
   "cell_type": "code",
   "execution_count": 140,
   "metadata": {},
   "outputs": [],
   "source": [
    "# Génération du dictionnaire\n",
    "df = pd.DataFrame()\n",
    "tab_passwd = []\n",
    "tab_proba = []\n",
    "# Tri des fréquences d'apparition\n",
    "sorted_bigramme  = bigramme.sort_values(by=['frequency'], ascending=False) # Pour renitialiser les indices de sorte que le premier élément aura l'indice 0\n",
    "sorted_bigramme = sorted_bigramme.reset_index(drop=True) \n",
    "\n",
    "for i in range(len(sorted_bigramme)) :\n",
    "    for j in range(len(sorted_bigramme)) :\n",
    "        mdp = sorted_bigramme['letters'][i] + sorted_bigramme['letters'][j]\n",
    "        proba = sorted_bigramme['frequency'][i] * sorted_bigramme['frequency'][j]\n",
    "        tab_passwd.append(mdp)\n",
    "        tab_proba.append(proba)\n",
    "df[\"Password\"] = tab_passwd\n",
    "df['Prob'] = tab_proba"
   ]
  },
  {
   "cell_type": "code",
   "execution_count": 141,
   "metadata": {},
   "outputs": [],
   "source": [
    "df = df.drop_duplicates(subset=\"Password\")"
   ]
  },
  {
   "cell_type": "code",
   "execution_count": 142,
   "metadata": {},
   "outputs": [
    {
     "data": {
      "text/html": [
       "<div>\n",
       "<style scoped>\n",
       "    .dataframe tbody tr th:only-of-type {\n",
       "        vertical-align: middle;\n",
       "    }\n",
       "\n",
       "    .dataframe tbody tr th {\n",
       "        vertical-align: top;\n",
       "    }\n",
       "\n",
       "    .dataframe thead th {\n",
       "        text-align: right;\n",
       "    }\n",
       "</style>\n",
       "<table border=\"1\" class=\"dataframe\">\n",
       "  <thead>\n",
       "    <tr style=\"text-align: right;\">\n",
       "      <th></th>\n",
       "      <th>Password</th>\n",
       "      <th>Prob</th>\n",
       "    </tr>\n",
       "  </thead>\n",
       "  <tbody>\n",
       "    <tr>\n",
       "      <th>0</th>\n",
       "      <td>ESES</td>\n",
       "      <td>0.000567</td>\n",
       "    </tr>\n",
       "    <tr>\n",
       "      <th>1</th>\n",
       "      <td>ESEN</td>\n",
       "      <td>0.000506</td>\n",
       "    </tr>\n",
       "    <tr>\n",
       "      <th>2</th>\n",
       "      <td>ESDE</td>\n",
       "      <td>0.000466</td>\n",
       "    </tr>\n",
       "    <tr>\n",
       "      <th>3</th>\n",
       "      <td>ESLE</td>\n",
       "      <td>0.000449</td>\n",
       "    </tr>\n",
       "    <tr>\n",
       "      <th>4</th>\n",
       "      <td>ESNT</td>\n",
       "      <td>0.000405</td>\n",
       "    </tr>\n",
       "  </tbody>\n",
       "</table>\n",
       "</div>"
      ],
      "text/plain": [
       "  Password      Prob\n",
       "0     ESES  0.000567\n",
       "1     ESEN  0.000506\n",
       "2     ESDE  0.000466\n",
       "3     ESLE  0.000449\n",
       "4     ESNT  0.000405"
      ]
     },
     "execution_count": 142,
     "metadata": {},
     "output_type": "execute_result"
    }
   ],
   "source": [
    "df.head(5)"
   ]
  },
  {
   "cell_type": "markdown",
   "metadata": {},
   "source": [
    "__Remarque__ : Il sera intéressant de calculer l'entropie de ce générateur ainsi que le nombre d'essais moyen nécessaire pour trouver le mot de passe."
   ]
  },
  {
   "cell_type": "code",
   "execution_count": 145,
   "metadata": {},
   "outputs": [
    {
     "name": "stdout",
     "output_type": "stream",
     "text": [
      "Entropie du dictionnaire est: 15.07 bits\n",
      "le nombre moyen minimal de mots de passe à tester pour trouver le bon est: 8607.03 mots de passe\n"
     ]
    }
   ],
   "source": [
    "entropie_df = entropie(df['Prob'])\n",
    "print(\"Entropie du dictionnaire est:\",entropie_df.round(2),\"bits\")\n",
    "G = 1+(2**entropie_df)/4\n",
    "print(\"le nombre moyen minimal de mots de passe à tester pour trouver le bon est:\",G.round(2),\"mots de passe\")"
   ]
  },
  {
   "cell_type": "code",
   "execution_count": 161,
   "metadata": {},
   "outputs": [],
   "source": [
    "# Attaques sur 1000 mots de passes\n",
    "\n",
    "nb_trial = 1000\n",
    "# On stocke le nombre de tentatives pour trouver le mot de passe\n",
    "vec_nb_trials = np.zeros(nb_trial)\n",
    "# On stocke le mot de passe\n",
    "tab_passwd = []\n",
    "# On stocke la probabilité d'apparition du mot de passe\n",
    "mdp_by_nbrT = pd.DataFrame()\n",
    "for i in range(nb_trial):\n",
    "    password = get_passwd()\n",
    "    Number_tentations = 0\n",
    "    for mdp in df[\"Password\"] :\n",
    "        Number_tentations += 1\n",
    "        if(mdp == password) :\n",
    "            break\n",
    "    tab_passwd.append(mdp)\n",
    "    vec_nb_trials[i] = Number_tentations"
   ]
  },
  {
   "cell_type": "code",
   "execution_count": 162,
   "metadata": {},
   "outputs": [],
   "source": [
    "mdp_by_nbrT[\"Mot de passe\"] = tab_passwd\n",
    "mdp_by_nbrT[\"Nbr tentations pour trouver\"] = vec_nb_trials"
   ]
  },
  {
   "cell_type": "code",
   "execution_count": 163,
   "metadata": {},
   "outputs": [
    {
     "data": {
      "text/html": [
       "<div>\n",
       "<style scoped>\n",
       "    .dataframe tbody tr th:only-of-type {\n",
       "        vertical-align: middle;\n",
       "    }\n",
       "\n",
       "    .dataframe tbody tr th {\n",
       "        vertical-align: top;\n",
       "    }\n",
       "\n",
       "    .dataframe thead th {\n",
       "        text-align: right;\n",
       "    }\n",
       "</style>\n",
       "<table border=\"1\" class=\"dataframe\">\n",
       "  <thead>\n",
       "    <tr style=\"text-align: right;\">\n",
       "      <th></th>\n",
       "      <th>Mot de passe</th>\n",
       "      <th>Nbr tentations pour trouver</th>\n",
       "    </tr>\n",
       "  </thead>\n",
       "  <tbody>\n",
       "    <tr>\n",
       "      <th>0</th>\n",
       "      <td>SEIL</td>\n",
       "      <td>9485.0</td>\n",
       "    </tr>\n",
       "    <tr>\n",
       "      <th>1</th>\n",
       "      <td>NOUV</td>\n",
       "      <td>57600.0</td>\n",
       "    </tr>\n",
       "    <tr>\n",
       "      <th>2</th>\n",
       "      <td>SERE</td>\n",
       "      <td>9470.0</td>\n",
       "    </tr>\n",
       "    <tr>\n",
       "      <th>3</th>\n",
       "      <td>ASEN</td>\n",
       "      <td>37858.0</td>\n",
       "    </tr>\n",
       "    <tr>\n",
       "      <th>4</th>\n",
       "      <td>EMME</td>\n",
       "      <td>22336.0</td>\n",
       "    </tr>\n",
       "  </tbody>\n",
       "</table>\n",
       "</div>"
      ],
      "text/plain": [
       "  Mot de passe  Nbr tentations pour trouver\n",
       "0         SEIL                       9485.0\n",
       "1         NOUV                      57600.0\n",
       "2         SERE                       9470.0\n",
       "3         ASEN                      37858.0\n",
       "4         EMME                      22336.0"
      ]
     },
     "execution_count": 163,
     "metadata": {},
     "output_type": "execute_result"
    }
   ],
   "source": [
    "mdp_by_nbrT.head(5)"
   ]
  },
  {
   "cell_type": "code",
   "execution_count": 164,
   "metadata": {},
   "outputs": [
    {
     "name": "stdout",
     "output_type": "stream",
     "text": [
      "Le nombre moyen pour deviner le mot de passe :40134.051\n"
     ]
    }
   ],
   "source": [
    "mean = vec_nb_trials.mean()\n",
    "print(f\"Le nombre moyen pour deviner le mot de passe :{mean}\")"
   ]
  },
  {
   "cell_type": "markdown",
   "metadata": {},
   "source": [
    "__Réponse__ : Le nombre d'essais moyen nécessaire pour trouver le mot de passe est effevtifement inférieur à la valeur de G."
   ]
  },
  {
   "cell_type": "markdown",
   "metadata": {},
   "source": [
    "## Conclusions \n",
    "\n",
    "Définir des bonnes pratiques pour le défenseur, i.e. la personne cherchant à concevoir un système de génération de mots de passe ? "
   ]
  },
  {
   "cell_type": "markdown",
   "metadata": {},
   "source": [
    "__Réponse__: \n",
    "-  Choisir les lettres de telle sorte à ce que qu'ils soient les plus indépendants possibles (inclure les lettres les moins fréquentes dans le texte).\n",
    "-  Choisir le mots de passe le plus long possible.\n",
    "-  Changer le mot de passe régulièrement.\n",
    "-  Éviter les informations personnelles \n"
   ]
  },
  {
   "cell_type": "markdown",
   "metadata": {},
   "source": [
    "Définior des bonnes pratiques pour l'attaquant, i.e. la personne essayant de trouver le mot de passe ?"
   ]
  },
  {
   "cell_type": "markdown",
   "metadata": {},
   "source": [
    "__Réponse__ :\n",
    "\n",
    "- Utiliser un modèle probabiliste qui prend en compte les lettres successives (bigramme, trigramme, ...) pour diminuer l'entropie.\n",
    "- Utiliser un dictionnaire de mots de passe générés à partir de texte eventuellement utilisé par le défenseur (Livre, article, information personnelle, ...).   \n"
   ]
  },
  {
   "cell_type": "markdown",
   "metadata": {},
   "source": [
    "**To do**"
   ]
  },
  {
   "cell_type": "markdown",
   "metadata": {},
   "source": [
    "## Un peu de lecture\n",
    "Cet article montre comment des hackers, à partir de leaks de bases de mots de passes, peuvent rapidement arriver à trouver le votre:\n",
    "https://arstechnica.com/information-technology/2013/05/how-crackers-make-minced-meat-out-of-your-passwords/\n"
   ]
  },
  {
   "cell_type": "markdown",
   "metadata": {},
   "source": [
    "__Quelques points intéréssnts de l'article__: \n",
    "- Quelles sont quelques-unes des techniques couramment utilisées par les pirates informatiques pour déchiffrer les mots de passe hachés?\n",
    "\n",
    "Une technique courante utilisée par les pirates informatiques consiste à craquer d'abord les mots de passe les plus faibles, surtout lorsque les hachages contiennent un sel cryptographique. Une autre technique consiste à utiliser des ensembles de règles personnalisés ciblant des hachages spécifiques, ce qui nécessite une connaissance du site d'où la liste de mots de passe a été extraite. De plus, les pirates informatiques peuvent recourir à des attaques par force brute, des attaques par dictionnaire ou des attaques hybrides pour craquer des mots de passe.\n",
    "\n",
    "- Comment les particuliers et les entreprises peuvent-ils se protéger contre les attaques de craquage de mot de passe?\n",
    "\n",
    "Les particuliers et les entreprises peuvent se protéger contre les attaques de craquage de mot de passe en utilisant des mots de passe forts et uniques pour chaque compte, en mettant en place l'authentification à deux facteurs et en changeant régulièrement les mots de passe . Il est également recommandé d'utiliser des gestionnaires de mots de passe pour générer des codes d'accès longs et aléatoires qui sont uniques pour chaque site, car ces types de mots de passe ne peuvent être craqués que par force brute et sont les plus difficiles à récupérer . De plus, les entreprises peuvent imposer des politiques de mot de passe strictes pour les employés et effectuer régulièrement des audits de mot de passe pour s'assurer que les politiques de mot de passe sont correctement appliquées ."
   ]
  },
  {
   "cell_type": "markdown",
   "metadata": {},
   "source": []
  }
 ],
 "metadata": {
  "kernelspec": {
   "display_name": "Python 3",
   "language": "python",
   "name": "python3"
  },
  "language_info": {
   "codemirror_mode": {
    "name": "ipython",
    "version": 3
   },
   "file_extension": ".py",
   "mimetype": "text/x-python",
   "name": "python",
   "nbconvert_exporter": "python",
   "pygments_lexer": "ipython3",
   "version": "3.10.6"
  }
 },
 "nbformat": 4,
 "nbformat_minor": 2
}
